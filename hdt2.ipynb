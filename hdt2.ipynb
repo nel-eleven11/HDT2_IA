{
  "cells": [
    {
      "cell_type": "markdown",
      "metadata": {
        "id": "wAS8TTYatHVE"
      },
      "source": [
        "# Task 1 - Preguntas Teóricas\n",
        "\n",
        "Responda a cada de las siguientes preguntas de forma clara y lo más completamente posible"
      ]
    },
    {
      "cell_type": "markdown",
      "metadata": {
        "id": "ht8Buw06tHVH"
      },
      "source": [
        "1. Defina el proceso de decisión de Markov (MDP) y explique sus componentes.\n",
        "\n",
        "El proceso de decisión de Markov (MDP) es un marco matemático utilizado para modelar la toma de decisiones en entornos donde los resultados dependen tanto del azar como de las acciones de un agente. Se define mediante una tupla (S,A,P,R), cuyos componentes son:\n",
        "\n",
        "- S (Espacio de Estados): Conjunto de todos los estados posibles en los que puede encontrarse el sistema.\n",
        "- A (Espacio de Acciones): Conjunto de todas las acciones posibles que el agente puede ejecutar en cada estado.\n",
        "- P (Probabilidad de Transición de Estado): Función que define la probabilidad de moverse de un estado a otro dado que se ha tomado una acción específica.\n",
        "- R (Función de Recompensa): Asigna un valor numérico a cada par estado-acción, reflejando la conveniencia de dicha acción en un estado determinado.\n",
        "\n"
      ]
    },
    {
      "cell_type": "markdown",
      "metadata": {
        "jupyter": {
          "source_hidden": true
        },
        "id": "gDYYZy7TtHVI"
      },
      "source": [
        "2. Describa cuál es la diferencia entre política, evaluación de políticas, mejora de políticas e iteración de políticas\n",
        "en el contexto de los PDM.\n",
        "\n",
        "- Política: Es una regla que nos da acciones a poder tomar en cada estado del entorno. Esta se puede llegar a representar como una función que se asigna a cada uno de los estados una acción o distribución de una probabilidad sobre dichas acciones. El agente se guía de esta política para interactuar con el ambiente.\n",
        "- Evaluación de políticas: Nos ayuda a calcular la función de valor que se asocia a una política dada. Con una evaluación de políticas determinamos la recompensa acumulada esperada al seguir una política desde un estado en cierta dirección. Se podría decir que evalúa que tan buena es la política en cuanto a rendimiento a largo plazo.\n",
        "- Mejora de políticas: Actualiza o hace ajustes a la política utilizada haciendo uso de la evaluación realizada. La manera en la que se hace uso de la evaluación de políticas es determinando las acciones que pueden incrementar la recompensa esperada en cada estado, con esto se modifica la política para que en cada estado se asegure de seleccionar la acción más óptima.\n",
        "- Iteración de políticas: Con la iteración usamos los dos pasos anteriores haciendo una evaluación de la política actual y después se mejora la política usando los resultados de la evaluación de políticas. Este proceso se repite hasta que se consigue que la política converge, o sea, que no se puede obtener mejoras, esto quiere decir que se llegó a una política óptima."
      ]
    },
    {
      "cell_type": "markdown",
      "source": [
        "3. Explique el concepto de factor de descuento (gamma) en los MDP. ¿Cómo influye en la toma de decisiones?\n",
        "\n",
        "Cuando hablamos de MDP el facor de descuento es el parametro que hace una valoracion entre las recompensas futuras y las recompensas inmediatas. El factor de descuento se denota como **γ**, donde 0≤γ≤10≤γ≤1. Cuando se hace la valoración se toma en cuenta si **γ** es más cercano a 1 o 0.  \n",
        "\n",
        "- Si **γ** es cercano a 1, el agente prioriza las recompensas futuras.\n",
        "\n",
        "- Si **γ** es cercano a 0, el agente prioriza las recompensas inmediatas.\n",
        "\n",
        "El factor de descuento Gamma afecta a la toma de decisiones de manera significativamente, ya que el agente dependiendo del factor de descuento tomará decisiones de corto plazo o de largo plazo, siendo el **γ** cercano a 0 el que fomenta la explotación o sea que se enfoca en maximizar las recompensas imnmediatas explotando lo que ya conoce y con el **γ** cercano a 1 siendo el que fomenta la exploración, ya que el agente invierte más tiempo para explorar el entorno para buscar las recompensas futuras."
      ],
      "metadata": {
        "id": "mCUzY9N0tdT8"
      }
    },
    {
      "cell_type": "markdown",
      "source": [
        "4. Analice la diferencia entre los algoritmos de iteración de valores y de iteración de políticas para resolver MDP.\n",
        "\n",
        "**Diferencias:**\n",
        "- **Valor:**\n",
        "  - **Enfoque:**\n",
        "  Actualiza directamente la funcion de valor V(s).\n",
        "  - **Ecuación principal:**Ecuación de Bellman de optimización.\n",
        "  - **Convergencia:**Más rapida en términos de iteraciones.\n",
        "  - **Implementación:**Generalemente sencilla.\n",
        "- **Politicas:**\n",
        "  - **Enfoque:** Alterna entre evaluación y mejora de políticas.\n",
        "  - **Ecuación principal:** Ecuación de Bellman para evaluación de politicas.\n",
        "  - **Convergencia:**Menos iteraciones, pero más costosas.\n",
        "  - **Implementación:**Más compleja debido a la evaluación de políticas."
      ],
      "metadata": {
        "id": "VPBQ3cI7tj-R"
      }
    },
    {
      "cell_type": "markdown",
      "metadata": {
        "id": "PDsgnBZwtHVL"
      },
      "source": [
        "5. ¿Cuáles son algunos desafíos o limitaciones comunes asociados con la resolución de MDP a gran escala?\n",
        "Discuta los enfoques potenciales para abordar estos desafíos.\n",
        "\n",
        "Algunos de los desafios de la implementación de los MDP pueden ser:\n",
        "- Dimensión del espacio de estados: El espacio de estados en problemas reales puede volverse incluso infinito lo que dificulta el calculo de la función valor o la politica optima se convierte en incalculable.\n",
        "- Dimensión del espacio acciones: Un caso similar al de los espacios de estado, la cantidad de acciones posibles también puede ser muy grande, lo que aumenta la complejidad de la maximización de la ecuación de Bellman.\n",
        "- Curse of dimensionality: Esta \"maldición\" se refiere a que a medida que aumenta el número de variables de estado, se hace más dificil el almacenamiento y también el calculo de la función de valor o la politica.\n",
        "- Conocimiento del modelo: Cuando se aplican MDP a problemas reales asumimos conocer las probabilidades de transición y también las recompensas cuando esto es dificil de estimar o directamente no las conocemos.\n",
        "\n",
        "**Enfoques a utilizar**:\n",
        "- Aproximación de la función de valor exacta V(s) para cada estado, se pueden utilizar métodos de aproximación tales como:\n",
        "  - Aproximación lineal.\n",
        "  - Redes neuronales.\n",
        "\n",
        "- Agregación de estados: Agrupar estados con similitudes en estados más grandes o \"superestados\" para reducir la dimensionalidad del espacio de estados.\n",
        "- Muestreo y simulación: Utilizar tecnicas de muestreo como Monte Carlo o TD - Learning, para asi tener una estimación de la función de valor o la politica sin explorar todo el espacio de estados.\n",
        "- Descomposición del problema: Dividir el problema  en subproblemas para facilitar la resolución de MPDs más pequeños.\n",
        "- Exploración eficiente: Usar exploraciones como e-greedy, SARSA o una Policy Gradient que no requieren de un modelo sumamente explicito del entorno para funcionar bien."
      ]
    },
    {
      "cell_type": "markdown",
      "metadata": {
        "id": "d3qCjHD-tHVL"
      },
      "source": [
        "# Task 2 - Preguntas Analíticas\n",
        "\n",
        "Responda a cada de las siguientes preguntas de forma clara y lo más completamente posible.\n"
      ]
    },
    {
      "cell_type": "markdown",
      "metadata": {
        "id": "SyitjD3EtHVM"
      },
      "source": [
        "1. Analice críticamente los supuestos subyacentes a la propiedad de Markov en los Procesos de Decisión de\n",
        "Markov (MDP). Analice escenarios en los que estos supuestos puedan no ser válidos y sus implicaciones\n",
        "para la toma de decisiones.\n"
      ]
    },
    {
      "cell_type": "markdown",
      "metadata": {
        "id": "7a1qF80etHVM"
      },
      "source": [
        "2. Explore los desafíos de modelar la incertidumbre en los procesos de decisión de Markov (MDP) y analice\n",
        "estrategias para una toma de decisiones sólida en entornos inciertos.\n"
      ]
    },
    {
      "cell_type": "markdown",
      "metadata": {
        "id": "wjjH8_LPtHVM"
      },
      "source": [
        "# Task 3 - Preguntas Prácticas\n",
        "\n",
        "Desarrolle un agente básico capaz de resolver un problema simplificado del Proceso de Decisión de Markov (MDP).\n",
        "Considere utilizar un ejemplo bien conocido como el entorno 'Frozen Lake'. Proporcione el código Python para el\n",
        "proceso de toma de decisiones del agente basándose únicamente en los principios de los procesos de decisión de\n",
        "Markov. Recuerde que para este tipo de problema, el ambiente es una matriz de 4x4, y las acciones, pueden ser\n",
        "moverse hacia arriba, abajo, derecha, izquierda. Considere que el punto inicial siempre estará en la esquina opuesta\n",
        "del punto de meta. Es decir, puede tener hasta 4 configuraciones diferentes. Por ejemplo, el punto inicial puede estar\n",
        "en la coordenada (0, 0) y el punto de meta en la coordenada en la coordenada (3, 3). Además, la posición de los hoyos\n",
        "debe ser determinada aleatoriamente y no debe superar el ser más de 3. Es decir, si aleatoriamente se decide que\n",
        "sean 2 posiciones de hoyo, las coordenadas de estas deben ser determinadas de forma aleatoria. Asegúrese de usar\n",
        "“seed” para que sus resultados sean consistentes."
      ]
    },
    {
      "cell_type": "markdown",
      "metadata": {
        "id": "k0ixdUR-tHVQ"
      },
      "source": [
        "### Bibliografía:\n",
        "\n",
        "- Buczyński, R. (2023, 21 septiembre). Understanding Markov Decision Processes - Python in Plain English. Medium. https://python.plainenglish.io/understanding-markov-decision-processes-17e852cd9981"
      ]
    }
  ],
  "metadata": {
    "kernelspec": {
      "display_name": "Python 3 (ipykernel)",
      "language": "python",
      "name": "python3"
    },
    "language_info": {
      "codemirror_mode": {
        "name": "ipython",
        "version": 3
      },
      "file_extension": ".py",
      "mimetype": "text/x-python",
      "name": "python",
      "nbconvert_exporter": "python",
      "pygments_lexer": "ipython3",
      "version": "3.13.1"
    },
    "colab": {
      "provenance": []
    }
  },
  "nbformat": 4,
  "nbformat_minor": 0
}